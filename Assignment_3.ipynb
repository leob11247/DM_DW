{
 "cells": [
  {
   "cell_type": "code",
   "execution_count": null,
   "id": "e3b64d6cab3fc2e6",
   "metadata": {},
   "outputs": [],
   "source": [
    "import pandas as pd\n",
    "import numpy as np\n",
    "from mlxtend.frequent_patterns import apriori, association_rules\n",
    "from mlxtend.preprocessing import TransactionEncoder\n",
    "import mlxtend\n",
    "\n",
    "#This is for association rule assignment\n",
    "#Leo Baltazar\n",
    "\n",
    "Movies_Data = pd.read_csv(\"/Users/leobaltazar/Desktop/Data Mining/Movies.tsv\", delimiter='\\t')\n",
    "Ratings_Data = pd.read_csv(\"/Users/leobaltazar/Desktop/Data Mining/Ratings.tsv\", delimiter='\\t')\n",
    "\n",
    "Movies_Data[\"genres\"] = Movies_Data[\"genres\"].apply(lambda x: x.split(\"|\"))\n",
    "\n",
    "Ratings_Data[\"rating\"] = pd.to_numeric(Ratings_Data[\"rating\"]).astype(int)\n",
    "high_ratings = Ratings_Data[Ratings_Data[\"rating\"] >= 4]\n",
    "\n",
    "merged_data = pd.merge(high_ratings, Movies_Data, on=\"movieId\", how=\"inner\")\n",
    "\n",
    "transactions = merged_data.groupby(\"userId\")[\"genres\"].apply(lambda x: list(set(sum(x, []))))\n",
    "transactions = transactions.tolist()\n",
    "\n",
    "encoder = TransactionEncoder()\n",
    "encoded_data = encoder.fit(transactions).transform(transactions)\n",
    "df_transactions = pd.DataFrame(encoded_data, columns=encoder.columns_)\n",
    "\n",
    "frequent_itemsets = apriori(df_transactions, min_support=0.05, use_colnames=True)\n",
    "rules = association_rules(frequent_itemsets, metric=\"lift\", min_threshold=1.0)\n",
    "\n",
    "print(rules[['antecedents', 'consequents', 'support', 'confidence', 'lift']].head())"
   ]
  },
  {
   "cell_type": "code",
   "execution_count": null,
   "id": "aa5af0fd805cf0a4",
   "metadata": {},
   "outputs": [],
   "source": []
  }
 ],
 "metadata": {
  "kernelspec": {
   "display_name": "Python 3 (ipykernel)",
   "language": "python",
   "name": "python3"
  },
  "language_info": {
   "codemirror_mode": {
    "name": "ipython",
    "version": 3
   },
   "file_extension": ".py",
   "mimetype": "text/x-python",
   "name": "python",
   "nbconvert_exporter": "python",
   "pygments_lexer": "ipython3",
   "version": "3.12.3"
  }
 },
 "nbformat": 4,
 "nbformat_minor": 5
}
